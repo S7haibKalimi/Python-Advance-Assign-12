{
 "cells": [
  {
   "cell_type": "markdown",
   "id": "bdd65a8b",
   "metadata": {},
   "source": [
    "# Q1. Does assigning a value to a string's indexed character violate Python's string immutability?"
   ]
  },
  {
   "cell_type": "markdown",
   "id": "4232a6f0",
   "metadata": {},
   "source": [
    "NO"
   ]
  },
  {
   "cell_type": "markdown",
   "id": "5c0d99be",
   "metadata": {},
   "source": [
    "# Q2. Does using the += operator to concatenate strings violate Python's string immutability? Why or why not? "
   ]
  },
  {
   "cell_type": "markdown",
   "id": "73366434",
   "metadata": {},
   "source": [
    "NO, because immutability means it is not possible to change/ manipulate the data inside, using += data remains safe."
   ]
  },
  {
   "cell_type": "markdown",
   "id": "fb04d0eb",
   "metadata": {},
   "source": [
    "# Q3. In Python, how many different ways are there to index a character?"
   ]
  },
  {
   "cell_type": "markdown",
   "id": "41dc7525",
   "metadata": {},
   "source": [
    "There are 2 different ways of indexing (form left to right and from right to left)."
   ]
  },
  {
   "cell_type": "markdown",
   "id": "1ff7054a",
   "metadata": {},
   "source": [
    "# Q4. What is the relationship between indexing and slicing?"
   ]
  },
  {
   "cell_type": "markdown",
   "id": "ec92253e",
   "metadata": {},
   "source": [
    "indexing is giving numbers from 0 to the length of str/list, etc and slicing is extracting the elements using their indexes, hence relation can be defined as slicing uses indexes only to extract the elements."
   ]
  },
  {
   "cell_type": "markdown",
   "id": "fa257cd5",
   "metadata": {},
   "source": [
    "# Q5. What is an indexed character's exact data type? What is the data form of a slicing-generated substring?"
   ]
  },
  {
   "cell_type": "markdown",
   "id": "f8bf81f8",
   "metadata": {},
   "source": [
    "string(for character), Data type remains same.\n",
    "\n",
    "str if input is string, list if input is list, data type remains same as that of input here also."
   ]
  },
  {
   "cell_type": "markdown",
   "id": "1cbae145",
   "metadata": {},
   "source": [
    "# Q6. What is the relationship between string and character \"types\" in Python?"
   ]
  },
  {
   "cell_type": "markdown",
   "id": "0bb4b8f3",
   "metadata": {},
   "source": [
    "Character is just a string of length 1, data type is same for both."
   ]
  },
  {
   "cell_type": "markdown",
   "id": "4d922fa5",
   "metadata": {},
   "source": [
    "# Q7. Identify at least two operators and one method that allow you to combine one or more smaller strings to create a larger string."
   ]
  },
  {
   "cell_type": "markdown",
   "id": "badbb21e",
   "metadata": {},
   "source": [
    "join method and concatination method (+)"
   ]
  },
  {
   "cell_type": "markdown",
   "id": "b314a6e5",
   "metadata": {},
   "source": [
    "# Q8. What is the benefit of first checking the target string with in or not in before using the index method to find a substring?"
   ]
  },
  {
   "cell_type": "markdown",
   "id": "ac71c787",
   "metadata": {},
   "source": [
    "It specifies the presence or absence of target and reduces time and unnecessary effort."
   ]
  },
  {
   "cell_type": "markdown",
   "id": "d9b636d5",
   "metadata": {},
   "source": [
    "# Q9. Which operators and built-in string methods produce simple Boolean (true/false) results?"
   ]
  },
  {
   "cell_type": "markdown",
   "id": "3ff4d00f",
   "metadata": {},
   "source": [
    "Comparison Operators"
   ]
  },
  {
   "cell_type": "code",
   "execution_count": null,
   "id": "2892ee47",
   "metadata": {},
   "outputs": [],
   "source": []
  }
 ],
 "metadata": {
  "kernelspec": {
   "display_name": "Python 3 (ipykernel)",
   "language": "python",
   "name": "python3"
  },
  "language_info": {
   "codemirror_mode": {
    "name": "ipython",
    "version": 3
   },
   "file_extension": ".py",
   "mimetype": "text/x-python",
   "name": "python",
   "nbconvert_exporter": "python",
   "pygments_lexer": "ipython3",
   "version": "3.9.12"
  }
 },
 "nbformat": 4,
 "nbformat_minor": 5
}
